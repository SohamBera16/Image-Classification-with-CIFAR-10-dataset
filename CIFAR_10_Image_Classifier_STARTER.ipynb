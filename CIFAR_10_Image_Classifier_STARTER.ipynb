{
  "cells": [
    {
      "cell_type": "markdown",
      "metadata": {
        "id": "view-in-github",
        "colab_type": "text"
      },
      "source": [
        "<a href=\"https://colab.research.google.com/github/SohamBera16/Image-Classification-with-CIFAR-10-dataset/blob/main/CIFAR_10_Image_Classifier_STARTER.ipynb\" target=\"_parent\"><img src=\"https://colab.research.google.com/assets/colab-badge.svg\" alt=\"Open In Colab\"/></a>"
      ]
    },
    {
      "cell_type": "markdown",
      "metadata": {
        "id": "DlzF1u-q6H2L"
      },
      "source": [
        "# Introduction\n",
        "\n",
        "In this project, you will build a neural network of your own design to evaluate the CIFAR-10 dataset.\n",
        "Our target accuracy is 70%, but any accuracy over 50% is a great start.\n",
        "Some of the benchmark results on CIFAR-10 include:\n",
        "\n",
        "78.9% Accuracy | [Deep Belief Networks; Krizhevsky, 2010](https://www.cs.toronto.edu/~kriz/conv-cifar10-aug2010.pdf)\n",
        "\n",
        "90.6% Accuracy | [Maxout Networks; Goodfellow et al., 2013](https://arxiv.org/pdf/1302.4389.pdf)\n",
        "\n",
        "96.0% Accuracy | [Wide Residual Networks; Zagoruyko et al., 2016](https://arxiv.org/pdf/1605.07146.pdf)\n",
        "\n",
        "99.0% Accuracy | [GPipe; Huang et al., 2018](https://arxiv.org/pdf/1811.06965.pdf)\n",
        "\n",
        "98.5% Accuracy | [Rethinking Recurrent Neural Networks and other Improvements for ImageClassification; Nguyen et al., 2020](https://arxiv.org/pdf/2007.15161.pdf)\n",
        "\n",
        "Research with this dataset is ongoing. Notably, many of these networks are quite large and quite expensive to train. \n",
        "\n",
        "## Imports"
      ]
    },
    {
      "cell_type": "code",
      "execution_count": 11,
      "metadata": {
        "id": "A42yUgpk6H2Q"
      },
      "outputs": [],
      "source": [
        "## This cell contains the essential imports you will need – DO NOT CHANGE THE CONTENTS! ##\n",
        "import torch\n",
        "import torch.nn as nn\n",
        "import torch.nn.functional as F\n",
        "import torch.optim as optim\n",
        "import torchvision\n",
        "import torchvision.transforms as transforms\n",
        "import matplotlib.pyplot as plt\n",
        "import numpy as np\n",
        "from torch.utils.data import random_split\n",
        "from torchvision import models \n",
        "from torch.optim import lr_scheduler"
      ]
    },
    {
      "cell_type": "markdown",
      "metadata": {
        "id": "jkCsfOX86H2a"
      },
      "source": [
        "## Load the Dataset\n",
        "\n",
        "Specify your transforms as a list first.\n",
        "The transforms module is already loaded as `transforms`.\n",
        "\n",
        "CIFAR-10 is fortunately included in the torchvision module.\n",
        "Then, you can create your dataset using the `CIFAR10` object from `torchvision.datasets` ([the documentation is available here](https://pytorch.org/docs/stable/torchvision/datasets.html#cifar)).\n",
        "Make sure to specify `download=True`! \n",
        "\n",
        "Once your dataset is created, you'll also need to define a `DataLoader` from the `torch.utils.data` module for both the train and the test set."
      ]
    },
    {
      "cell_type": "code",
      "execution_count": 2,
      "metadata": {
        "colab": {
          "base_uri": "https://localhost:8080/",
          "height": 121,
          "referenced_widgets": [
            "88cc71536db146b5b364809c6a2ecc22",
            "9d791b9f87a54699ad3bbcab2ee64080",
            "0d0cc0038c5741a9bdd6d2d01d54078d",
            "8afa00a3e8c44443af3bc73668932fd1",
            "4b3467e9d4b34118a6189dc84a976b5d",
            "cfc8eec1aba2411f8af320807a98423a",
            "3fb922a4ad1e4fa3a2e30dbf360881cf",
            "c2da4e5f1a00450a9576b529b6069141",
            "96c3630be95443bd952e84fbddfae8d9",
            "6badf7171dae4bbfac5c3cfe890b7884",
            "6085f43e83954b45b56d3e14442341bc"
          ]
        },
        "id": "TMaaEM356H2b",
        "outputId": "f7e8e985-bb1e-43e3-f872-c3da7cb65aa0"
      },
      "outputs": [
        {
          "output_type": "stream",
          "name": "stdout",
          "text": [
            "Downloading https://www.cs.toronto.edu/~kriz/cifar-10-python.tar.gz to ./data/cifar-10-python.tar.gz\n"
          ]
        },
        {
          "output_type": "display_data",
          "data": {
            "text/plain": [
              "  0%|          | 0/170498071 [00:00<?, ?it/s]"
            ],
            "application/vnd.jupyter.widget-view+json": {
              "version_major": 2,
              "version_minor": 0,
              "model_id": "88cc71536db146b5b364809c6a2ecc22"
            }
          },
          "metadata": {}
        },
        {
          "output_type": "stream",
          "name": "stdout",
          "text": [
            "Extracting ./data/cifar-10-python.tar.gz to ./data\n",
            "Files already downloaded and verified\n"
          ]
        }
      ],
      "source": [
        "# Define transforms\n",
        "# Reference: https://pytorch.org/tutorials/\n",
        "## YOUR CODE HERE ##\n",
        "train_transform = transforms.Compose([transforms.ToTensor(), transforms.Normalize((0.5, 0.5, 0.5), (0.5, 0.5, 0.5)),\n",
        "                                transforms.RandomHorizontalFlip(p=0.5),transforms.RandomRotation(40),transforms.RandomCrop(32)])\n",
        "\n",
        "test_transform = transforms.Compose([transforms.ToTensor(), transforms.Normalize((0.5, 0.5, 0.5), (0.5, 0.5, 0.5)),\n",
        "                                transforms.RandomHorizontalFlip(p=0.5),transforms.RandomRotation(40),transforms.RandomCrop(32)])\n",
        "\n",
        "# Create training set and testing set\n",
        "trainset = torchvision.datasets.CIFAR10(root='./data', train=True, download=True, transform=train_transform)\n",
        "\n",
        "testset = torchvision.datasets.CIFAR10(root='./data', train=False, download=True, transform=test_transform)"
      ]
    },
    {
      "cell_type": "code",
      "source": [
        "#splitting training and validation set with a 9:1 ratio\n",
        "torch.manual_seed(42)          #for reproducibility of validation set\n",
        "val_size = 5000\n",
        "train_size = len(trainset) - val_size\n",
        "\n",
        "train_ds, val_ds = random_split(trainset, [train_size, val_size])\n",
        "print(len(train_ds))\n",
        "print(len(val_ds))"
      ],
      "metadata": {
        "colab": {
          "base_uri": "https://localhost:8080/"
        },
        "id": "s5b2xQojUU_H",
        "outputId": "69a3e0d0-f922-4725-915f-921c294ee961"
      },
      "execution_count": 3,
      "outputs": [
        {
          "output_type": "stream",
          "name": "stdout",
          "text": [
            "45000\n",
            "5000\n"
          ]
        }
      ]
    },
    {
      "cell_type": "code",
      "source": [
        "# define training and validation dataloader\n",
        "trainloader = torch.utils.data.DataLoader(train_ds, batch_size=128, shuffle=True, num_workers=2)\n",
        "\n",
        "valloader = torch.utils.data.DataLoader(val_ds,batch_size = 256, shuffle = False, num_workers=2)\n",
        "\n",
        "# define test dataloader\n",
        "testloader = torch.utils.data.DataLoader(testset,  batch_size=256, shuffle=False, num_workers=2)\n",
        "\n",
        "# The 10 classes in the dataset\n",
        "classes = ('plane', 'car', 'bird', 'cat', 'deer', 'dog', 'frog', 'horse', 'ship', 'truck')"
      ],
      "metadata": {
        "id": "gj8ROdm6Uayl"
      },
      "execution_count": 4,
      "outputs": []
    },
    {
      "cell_type": "markdown",
      "metadata": {
        "id": "fojq86YU6H2c"
      },
      "source": [
        "## Explore the Dataset\n",
        "Using matplotlib, numpy, and torch, explore the dimensions of your data.\n",
        "\n",
        "You can view images using the `show5` function defined below – it takes a data loader as an argument.\n",
        "Remember that normalized images will look really weird to you! You may want to try changing your transforms to view images.\n",
        "Typically using no transforms other than `toTensor()` works well for viewing – but not as well for training your network.\n",
        "If `show5` doesn't work, go back and check your code for creating your data loaders and your training/test sets."
      ]
    },
    {
      "cell_type": "code",
      "execution_count": 5,
      "metadata": {
        "id": "CHn-31PO6H2d"
      },
      "outputs": [],
      "source": [
        "def show5(img_loader):\n",
        "    dataiter = iter(img_loader)\n",
        "    \n",
        "    batch = next(dataiter)\n",
        "    labels = batch[1][0:5]\n",
        "    images = batch[0][0:5]\n",
        "    for i in range(5):\n",
        "        print(classes[labels[i]])\n",
        "    \n",
        "        image = images[i].numpy()\n",
        "        plt.imshow(image.T)\n",
        "        plt.show()"
      ]
    },
    {
      "cell_type": "code",
      "execution_count": 6,
      "metadata": {
        "colab": {
          "base_uri": "https://localhost:8080/",
          "height": 1000
        },
        "id": "NaQs7wJ86H2d",
        "outputId": "677320d0-fdeb-4409-d837-0f7ac10867f5"
      },
      "outputs": [
        {
          "output_type": "stream",
          "name": "stdout",
          "text": [
            "50000\n",
            "torch.Size([3, 32, 32])\n"
          ]
        },
        {
          "output_type": "stream",
          "name": "stderr",
          "text": [
            "WARNING:matplotlib.image:Clipping input data to the valid range for imshow with RGB data ([0..1] for floats or [0..255] for integers).\n"
          ]
        },
        {
          "output_type": "stream",
          "name": "stdout",
          "text": [
            "cat\n"
          ]
        },
        {
          "output_type": "display_data",
          "data": {
            "text/plain": [
              "<Figure size 432x288 with 1 Axes>"
            ],
            "image/png": "[encoded data removed]"
          },
          "metadata": {
            "needs_background": "light"
          }
        },
        {
          "output_type": "stream",
          "name": "stderr",
          "text": [
            "WARNING:matplotlib.image:Clipping input data to the valid range for imshow with RGB data ([0..1] for floats or [0..255] for integers).\n"
          ]
        },
        {
          "output_type": "stream",
          "name": "stdout",
          "text": [
            "ship\n"
          ]
        },
        {
          "output_type": "display_data",
          "data": {
            "text/plain": [
              "<Figure size 432x288 with 1 Axes>"
            ],
            "image/png": "[encoded data removed]"
          },
          "metadata": {
            "needs_background": "light"
          }
        },
        {
          "output_type": "stream",
          "name": "stderr",
          "text": [
            "WARNING:matplotlib.image:Clipping input data to the valid range for imshow with RGB data ([0..1] for floats or [0..255] for integers).\n"
          ]
        },
        {
          "output_type": "stream",
          "name": "stdout",
          "text": [
            "ship\n"
          ]
        },
        {
          "output_type": "display_data",
          "data": {
            "text/plain": [
              "<Figure size 432x288 with 1 Axes>"
            ],
            "image/png": "[encoded data removed]"
          },
          "metadata": {
            "needs_background": "light"
          }
        },
        {
          "output_type": "stream",
          "name": "stderr",
          "text": [
            "WARNING:matplotlib.image:Clipping input data to the valid range for imshow with RGB data ([0..1] for floats or [0..255] for integers).\n"
          ]
        },
        {
          "output_type": "stream",
          "name": "stdout",
          "text": [
            "plane\n"
          ]
        },
        {
          "output_type": "display_data",
          "data": {
            "text/plain": [
              "<Figure size 432x288 with 1 Axes>"
            ],
            "image/png": "[encoded data removed]"
          },
          "metadata": {
            "needs_background": "light"
          }
        },
        {
          "output_type": "stream",
          "name": "stderr",
          "text": [
            "WARNING:matplotlib.image:Clipping input data to the valid range for imshow with RGB data ([0..1] for floats or [0..255] for integers).\n"
          ]
        },
        {
          "output_type": "stream",
          "name": "stdout",
          "text": [
            "frog\n"
          ]
        },
        {
          "output_type": "display_data",
          "data": {
            "text/plain": [
              "<Figure size 432x288 with 1 Axes>"
            ],
            "image/png": "[encoded data removed]"
          },
          "metadata": {
            "needs_background": "light"
          }
        }
      ],
      "source": [
        "# Explore data\n",
        "# size of the training data set\n",
        "print(len(trainset))\n",
        "\n",
        "#shape of the training dataset images\n",
        "sample = next(iter(trainset))\n",
        "image, label = sample\n",
        "print(image.shape)\n",
        "\n",
        "#print 5 images from the test dataset\n",
        "show5(testloader)"
      ]
    },
    {
      "cell_type": "markdown",
      "metadata": {
        "id": "bcu6C2ZY6H2e"
      },
      "source": [
        "## Build your Neural Network\n",
        "Using the layers in `torch.nn` (which has been imported as `nn`) and the `torch.nn.functional` module (imported as `F`), construct a neural network based on the parameters of the dataset. \n",
        "Feel free to construct a model of any architecture – feedforward, convolutional, or even something more advanced!"
      ]
    },
    {
      "cell_type": "code",
      "execution_count": 38,
      "metadata": {
        "id": "KJJ0pX916H2e"
      },
      "outputs": [],
      "source": [
        "# handcrafted CNN model\n",
        "class Model(nn.Module):\n",
        "  def __init__(self):\n",
        "    super().__init__()\n",
        "    self.conv1 = nn.Conv2d(3, 6, 5)\n",
        "    self.pool = nn.MaxPool2d(2, 2)\n",
        "    self.conv2 = nn.Conv2d(6, 16, 5)\n",
        "    self.fc1 = nn.Linear(16 * 5 * 5, 120)\n",
        "    self.fc2 = nn.Linear(120, 84)\n",
        "    self.fc3 = nn.Linear(84, 10)\n",
        "    self.softmax = nn.Softmax(dim=1)\n",
        "\n",
        "  def forward(self, x):\n",
        "    x = self.pool(F.relu(self.conv1(x)))\n",
        "    x = self.pool(F.relu(self.conv2(x)))\n",
        "    x = torch.flatten(x, 1)\n",
        "    x = F.relu(self.fc1(x))\n",
        "    x = F.relu(self.fc2(x))\n",
        "    x = self.fc3(x)\n",
        "    x = self.softmax(x)\n",
        "    return x\n",
        "\n",
        "model = Model()\n",
        "\n",
        "# implementing Transfer Learning using resnet18 model\n",
        "model_conv = torchvision.models.resnet18(pretrained=True)\n",
        "for param in model_conv.parameters():\n",
        "    param.requires_grad = False\n",
        "\n",
        "num_ftrs = model_conv.fc.in_features\n",
        "#model_conv.fc = nn.Linear(num_ftrs, 10)\n",
        "\n",
        "model_conv.fc = nn.Sequential(nn.Linear(num_ftrs, 128),\n",
        "                              nn.ReLU(),\n",
        "                              nn.Dropout(0.2),\n",
        "                              nn.Linear(128, 10),\n",
        "                              nn.LogSoftmax(dim=1))\n",
        "\n",
        "model_conv = model_conv"
      ]
    },
    {
      "cell_type": "code",
      "source": [
        "# densenet model \n",
        "\n",
        "model_densenet = models.densenet121(pretrained=True)\n",
        "\n",
        "for param in model_densenet.parameters():\n",
        "    param.requires_grad = False\n",
        "    \n",
        "model_densenet.classifier = nn.Sequential(nn.Linear(1024, 256),\n",
        "                                 nn.ReLU(),\n",
        "                                 nn.Dropout(0.2),\n",
        "                                 nn.Linear(256, 10),\n",
        "                                 nn.LogSoftmax(dim=1))\n",
        "model_densenet = model_densenet"
      ],
      "metadata": {
        "id": "xtJxYlGv91lY"
      },
      "execution_count": 54,
      "outputs": []
    },
    {
      "cell_type": "markdown",
      "metadata": {
        "id": "QH06ydh36H2f"
      },
      "source": [
        "Specify a loss function and an optimizer, and instantiate the model.\n",
        "\n",
        "If you use a less common loss function, please note why you chose that loss function in a comment."
      ]
    },
    {
      "cell_type": "code",
      "execution_count": 55,
      "metadata": {
        "id": "T9wUsslv6H2g"
      },
      "outputs": [],
      "source": [
        "# specifying loss function and optimizer \n",
        "criterion = nn.NLLLoss()\n",
        "optimizer_densenet = optim.Adam(model_densenet.classifier.parameters(), lr=0.003)\n",
        "#exp_lr_scheduler = lr_scheduler.StepLR(optimizer_conv, step_size=5, gamma=0.1)"
      ]
    },
    {
      "cell_type": "markdown",
      "metadata": {
        "id": "2Askma1t6H2g"
      },
      "source": [
        "## Running your Neural Network\n",
        "Use whatever method you like to train your neural network, and ensure you record the average loss at each epoch. \n",
        "Don't forget to use `torch.device()` and the `.to()` method for both your model and your data if you are using GPU!\n",
        "\n",
        "If you want to print your loss during each epoch, you can use the `enumerate` function and print the loss after a set number of batches. 250 batches works well for most people!"
      ]
    },
    {
      "cell_type": "code",
      "execution_count": 56,
      "metadata": {
        "colab": {
          "base_uri": "https://localhost:8080/"
        },
        "id": "l9B9RTT56H2h",
        "outputId": "d99f4f4e-9733-4314-bf36-b9645eb10649"
      },
      "outputs": [
        {
          "output_type": "stream",
          "name": "stdout",
          "text": [
            "Epoch: 1/10..  Training Loss: 1.735..  Validation Loss: 1.586..  Validation Accuracy: 0.446\n",
            "Epoch: 2/10..  Training Loss: 1.557..  Validation Loss: 1.518..  Validation Accuracy: 0.469\n",
            "Epoch: 3/10..  Training Loss: 1.531..  Validation Loss: 1.470..  Validation Accuracy: 0.484\n",
            "Epoch: 4/10..  Training Loss: 1.501..  Validation Loss: 1.459..  Validation Accuracy: 0.480\n",
            "Epoch: 5/10..  Training Loss: 1.488..  Validation Loss: 1.452..  Validation Accuracy: 0.481\n",
            "Epoch: 6/10..  Training Loss: 1.475..  Validation Loss: 1.456..  Validation Accuracy: 0.480\n",
            "Epoch: 7/10..  Training Loss: 1.473..  Validation Loss: 1.430..  Validation Accuracy: 0.489\n",
            "Epoch: 8/10..  Training Loss: 1.457..  Validation Loss: 1.441..  Validation Accuracy: 0.484\n",
            "Epoch: 9/10..  Training Loss: 1.456..  Validation Loss: 1.410..  Validation Accuracy: 0.502\n",
            "Epoch: 10/10..  Training Loss: 1.445..  Validation Loss: 1.413..  Validation Accuracy: 0.505\n",
            "Finished Training\n"
          ]
        }
      ],
      "source": [
        "train_losses, val_losses = [], []\n",
        "epochs = 10\n",
        "\n",
        "for epoch in range(epochs): \n",
        "\n",
        "    running_loss = 0.0\n",
        "    for i, data in enumerate(trainloader,0):\n",
        "        # get the inputs; data is a list of [inputs, labels]\n",
        "        inputs, labels = data\n",
        "\n",
        "        # zero the parameter gradients\n",
        "        optimizer_densenet.zero_grad()\n",
        "\n",
        "        # forward + backward + optimize\n",
        "        outputs = model_densenet.forward(inputs)\n",
        "        loss = criterion(outputs, labels)\n",
        "        loss.backward()\n",
        "        optimizer_densenet.step()\n",
        "\n",
        "        # print statistics\n",
        "        running_loss += loss.item()\n",
        "        train_losses.append(running_loss/len(trainloader))\n",
        "        #exp_lr_scheduler.step()\n",
        "        if i % 200 == 199:    # print for every 200 mini-batches\n",
        "          val_loss = 0\n",
        "          accuracy = 0\n",
        "        \n",
        "        # Turn off gradients for validation, saves memory and computations\n",
        "          model_densenet.eval()\n",
        "          with torch.no_grad():\n",
        "            for images, labels in valloader:\n",
        "                log_ps = model_densenet.forward(images)\n",
        "                val_loss += criterion(log_ps, labels)\n",
        "                \n",
        "                ps = torch.exp(log_ps)\n",
        "                top_p, top_class = ps.topk(1, dim=1)\n",
        "                equals = top_class == labels.view(*top_class.shape)\n",
        "                accuracy += torch.mean(equals.type(torch.FloatTensor))\n",
        "        \n",
        "          train_losses.append(running_loss/len(trainloader))\n",
        "          val_losses.append(val_loss/len(valloader))\n",
        "\n",
        "          print(\"Epoch: {}/{}.. \".format(epoch+1, epochs),\n",
        "                \"Training Loss: {:.3f}.. \".format(running_loss/200),\n",
        "                \"Validation Loss: {:.3f}.. \".format(val_loss/len(valloader)),\n",
        "                \"Validation Accuracy: {:.3f}\".format(accuracy/len(valloader)))\n",
        "          \n",
        "          running_loss = 0.0\n",
        "          model_densenet.train()\n",
        "          \n",
        "print('Finished Training')"
      ]
    },
    {
      "cell_type": "markdown",
      "metadata": {
        "id": "hm0uBTDZ6H2h"
      },
      "source": [
        "Plot the training loss (and validation loss/accuracy, if recorded)."
      ]
    },
    {
      "cell_type": "code",
      "execution_count": 63,
      "metadata": {
        "id": "PO3bU1Ie6H2h",
        "colab": {
          "base_uri": "https://localhost:8080/",
          "height": 282
        },
        "outputId": "61100c9c-9e64-4e15-d08c-50b2cf7c4e00"
      },
      "outputs": [
        {
          "output_type": "execute_result",
          "data": {
            "text/plain": [
              "<matplotlib.legend.Legend at 0x7f546e886ed0>"
            ]
          },
          "metadata": {},
          "execution_count": 63
        },
        {
          "output_type": "display_data",
          "data": {
            "text/plain": [
              "<Figure size 432x288 with 1 Axes>"
            ],
            "image/png": "[encoded data removed]"
          },
          "metadata": {
            "image/png": {
              "width": 372,
              "height": 248
            },
            "needs_background": "light"
          }
        }
      ],
      "source": [
        "## YOUR CODE HERE ##\n",
        "%matplotlib inline\n",
        "%config InlineBackend.figure_format = 'retina'\n",
        "\n",
        "Param_range = np.arange(1,10)\n",
        "plt.plot(train_losses, label='Training loss')\n",
        "plt.plot(val_losses, label='Validation loss')\n",
        "plt.legend(frameon=False)"
      ]
    },
    {
      "cell_type": "markdown",
      "metadata": {
        "id": "RVjno6rg6H2i"
      },
      "source": [
        "## Testing your model\n",
        "Using the previously created `DataLoader` for the test set, compute the percentage of correct predictions using the highest probability prediction. \n",
        "\n",
        "If your accuracy is over 70%, great work! \n",
        "This is a hard task to exceed 70% on.\n",
        "\n",
        "If your accuracy is under 45%, you'll need to make improvements.\n",
        "Go back and check your model architecture, loss function, and optimizer to make sure they're appropriate for an image classification task."
      ]
    },
    {
      "cell_type": "code",
      "execution_count": 64,
      "metadata": {
        "id": "fF0w_Mz66H2i",
        "colab": {
          "base_uri": "https://localhost:8080/"
        },
        "outputId": "418bbb40-f161-4c1b-eb06-66b2715ed184"
      },
      "outputs": [
        {
          "output_type": "stream",
          "name": "stdout",
          "text": [
            "Accuracy of the network on the test images: 47 %\n"
          ]
        }
      ],
      "source": [
        "## YOUR CODE HERE ##\n",
        "correct = 0\n",
        "total = 0\n",
        "\n",
        "with torch.no_grad():\n",
        "    for data in testloader:\n",
        "        images, labels = data\n",
        "        # calculate outputs by running images through the network\n",
        "        outputs = model_densenet(images)\n",
        "        _, predicted = torch.max(outputs.data, 1)\n",
        "        total += labels.size(0)\n",
        "        correct += (predicted == labels).sum().item()\n",
        "\n",
        "print(f'Accuracy of the network on the test images: {100 * correct // total} %')"
      ]
    },
    {
      "cell_type": "markdown",
      "metadata": {
        "id": "3ZJ6Gi4N6H2i"
      },
      "source": [
        "## Saving your model\n",
        "Using `torch.save`, save your model for future loading."
      ]
    },
    {
      "cell_type": "code",
      "execution_count": 65,
      "metadata": {
        "id": "T8sLOwA66H2i"
      },
      "outputs": [],
      "source": [
        "# handcrafted CNN model\n",
        "# PATH = './cifar_model.pth'\n",
        "# torch.save(model.state_dict(), PATH)  # accuracy = 37%\n",
        "\n",
        "# Resnet18 model\n",
        "# PATH = './cifar_resnet18_model.pth'\n",
        "# torch.save(model_conv.state_dict(), PATH) # accuracy: 38%\n",
        "\n",
        "# densenet121 model\n",
        "PATH = './cifar_densenet121_model.pth'\n",
        "torch.save(model_densenet.state_dict(), PATH) # accuracy: 47%"
      ]
    },
    {
      "cell_type": "markdown",
      "metadata": {
        "id": "djuJPrIN6H2j"
      },
      "source": [
        "## Make a Recommendation\n",
        "\n",
        "Based on your evaluation, what is your recommendation on whether to build or buy? Explain your reasoning below."
      ]
    },
    {
      "cell_type": "markdown",
      "metadata": {
        "id": "MzaupFUk6H2j"
      },
      "source": [
        "Based on the performance of the best performing created model as well as the other model performances, the recommendation would be to go ahead with Detectocorp's algorithm which provides 70% accuracy. \n",
        "\n",
        "But, an important thing to consider here would be that the algorithms were tested on a CPU based machine which is comparatively less computationally powerful than computers with GPU acceleration capability and as the state-of-the-art, open source models does perform extremely well in the CIFAR-10 dataset, if accuracy score on this particular dataset is the only benchmark to consider, then we should definitely save the cost by using the cutting edge models along with fine-tuning steps as tested in this project which will surely provide a much better result than Detectocorp's algorithm.\n",
        "\n",
        "Hence, investment in purchasing either some GPU accelerated machines or cloud based GPU powered backend servers would be the best possible recommendation for my company in my opinion. \n",
        "\n",
        "\n",
        "\n"
      ]
    }
  ],
  "metadata": {
    "kernelspec": {
      "display_name": "Python 3",
      "language": "python",
      "name": "python3"
    },
    "language_info": {
      "codemirror_mode": {
        "name": "ipython",
        "version": 3
      },
      "file_extension": ".py",
      "mimetype": "text/x-python",
      "name": "python",
      "nbconvert_exporter": "python",
      "pygments_lexer": "ipython3",
      "version": "3.8.3"
    },
    "colab": {
      "provenance": [],
      "collapsed_sections": [],
      "include_colab_link": true
    },
    "accelerator": "TPU",
    "widgets": {
      "application/vnd.jupyter.widget-state+json": {
        "88cc71536db146b5b364809c6a2ecc22": {
          "model_module": "@jupyter-widgets/controls",
          "model_name": "HBoxModel",
          "model_module_version": "1.5.0",
          "state": {
            "_dom_classes": [],
            "_model_module": "@jupyter-widgets/controls",
            "_model_module_version": "1.5.0",
            "_model_name": "HBoxModel",
            "_view_count": null,
            "_view_module": "@jupyter-widgets/controls",
            "_view_module_version": "1.5.0",
            "_view_name": "HBoxView",
            "box_style": "",
            "children": [
              "IPY_MODEL_9d791b9f87a54699ad3bbcab2ee64080",
              "IPY_MODEL_0d0cc0038c5741a9bdd6d2d01d54078d",
              "IPY_MODEL_8afa00a3e8c44443af3bc73668932fd1"
            ],
            "layout": "IPY_MODEL_4b3467e9d4b34118a6189dc84a976b5d"
          }
        },
        "9d791b9f87a54699ad3bbcab2ee64080": {
          "model_module": "@jupyter-widgets/controls",
          "model_name": "HTMLModel",
          "model_module_version": "1.5.0",
          "state": {
            "_dom_classes": [],
            "_model_module": "@jupyter-widgets/controls",
            "_model_module_version": "1.5.0",
            "_model_name": "HTMLModel",
            "_view_count": null,
            "_view_module": "@jupyter-widgets/controls",
            "_view_module_version": "1.5.0",
            "_view_name": "HTMLView",
            "description": "",
            "description_tooltip": null,
            "layout": "IPY_MODEL_cfc8eec1aba2411f8af320807a98423a",
            "placeholder": "​",
            "style": "IPY_MODEL_3fb922a4ad1e4fa3a2e30dbf360881cf",
            "value": "100%"
          }
        },
        "0d0cc0038c5741a9bdd6d2d01d54078d": {
          "model_module": "@jupyter-widgets/controls",
          "model_name": "FloatProgressModel",
          "model_module_version": "1.5.0",
          "state": {
            "_dom_classes": [],
            "_model_module": "@jupyter-widgets/controls",
            "_model_module_version": "1.5.0",
            "_model_name": "FloatProgressModel",
            "_view_count": null,
            "_view_module": "@jupyter-widgets/controls",
            "_view_module_version": "1.5.0",
            "_view_name": "ProgressView",
            "bar_style": "success",
            "description": "",
            "description_tooltip": null,
            "layout": "IPY_MODEL_c2da4e5f1a00450a9576b529b6069141",
            "max": 170498071,
            "min": 0,
            "orientation": "horizontal",
            "style": "IPY_MODEL_96c3630be95443bd952e84fbddfae8d9",
            "value": 170498071
          }
        },
        "8afa00a3e8c44443af3bc73668932fd1": {
          "model_module": "@jupyter-widgets/controls",
          "model_name": "HTMLModel",
          "model_module_version": "1.5.0",
          "state": {
            "_dom_classes": [],
            "_model_module": "@jupyter-widgets/controls",
            "_model_module_version": "1.5.0",
            "_model_name": "HTMLModel",
            "_view_count": null,
            "_view_module": "@jupyter-widgets/controls",
            "_view_module_version": "1.5.0",
            "_view_name": "HTMLView",
            "description": "",
            "description_tooltip": null,
            "layout": "IPY_MODEL_6badf7171dae4bbfac5c3cfe890b7884",
            "placeholder": "​",
            "style": "IPY_MODEL_6085f43e83954b45b56d3e14442341bc",
            "value": " 170498071/170498071 [00:01&lt;00:00, 106189488.92it/s]"
          }
        },
        "4b3467e9d4b34118a6189dc84a976b5d": {
          "model_module": "@jupyter-widgets/base",
          "model_name": "LayoutModel",
          "model_module_version": "1.2.0",
          "state": {
            "_model_module": "@jupyter-widgets/base",
            "_model_module_version": "1.2.0",
            "_model_name": "LayoutModel",
            "_view_count": null,
            "_view_module": "@jupyter-widgets/base",
            "_view_module_version": "1.2.0",
            "_view_name": "LayoutView",
            "align_content": null,
            "align_items": null,
            "align_self": null,
            "border": null,
            "bottom": null,
            "display": null,
            "flex": null,
            "flex_flow": null,
            "grid_area": null,
            "grid_auto_columns": null,
            "grid_auto_flow": null,
            "grid_auto_rows": null,
            "grid_column": null,
            "grid_gap": null,
            "grid_row": null,
            "grid_template_areas": null,
            "grid_template_columns": null,
            "grid_template_rows": null,
            "height": null,
            "justify_content": null,
            "justify_items": null,
            "left": null,
            "margin": null,
            "max_height": null,
            "max_width": null,
            "min_height": null,
            "min_width": null,
            "object_fit": null,
            "object_position": null,
            "order": null,
            "overflow": null,
            "overflow_x": null,
            "overflow_y": null,
            "padding": null,
            "right": null,
            "top": null,
            "visibility": null,
            "width": null
          }
        },
        "cfc8eec1aba2411f8af320807a98423a": {
          "model_module": "@jupyter-widgets/base",
          "model_name": "LayoutModel",
          "model_module_version": "1.2.0",
          "state": {
            "_model_module": "@jupyter-widgets/base",
            "_model_module_version": "1.2.0",
            "_model_name": "LayoutModel",
            "_view_count": null,
            "_view_module": "@jupyter-widgets/base",
            "_view_module_version": "1.2.0",
            "_view_name": "LayoutView",
            "align_content": null,
            "align_items": null,
            "align_self": null,
            "border": null,
            "bottom": null,
            "display": null,
            "flex": null,
            "flex_flow": null,
            "grid_area": null,
            "grid_auto_columns": null,
            "grid_auto_flow": null,
            "grid_auto_rows": null,
            "grid_column": null,
            "grid_gap": null,
            "grid_row": null,
            "grid_template_areas": null,
            "grid_template_columns": null,
            "grid_template_rows": null,
            "height": null,
            "justify_content": null,
            "justify_items": null,
            "left": null,
            "margin": null,
            "max_height": null,
            "max_width": null,
            "min_height": null,
            "min_width": null,
            "object_fit": null,
            "object_position": null,
            "order": null,
            "overflow": null,
            "overflow_x": null,
            "overflow_y": null,
            "padding": null,
            "right": null,
            "top": null,
            "visibility": null,
            "width": null
          }
        },
        "3fb922a4ad1e4fa3a2e30dbf360881cf": {
          "model_module": "@jupyter-widgets/controls",
          "model_name": "DescriptionStyleModel",
          "model_module_version": "1.5.0",
          "state": {
            "_model_module": "@jupyter-widgets/controls",
            "_model_module_version": "1.5.0",
            "_model_name": "DescriptionStyleModel",
            "_view_count": null,
            "_view_module": "@jupyter-widgets/base",
            "_view_module_version": "1.2.0",
            "_view_name": "StyleView",
            "description_width": ""
          }
        },
        "c2da4e5f1a00450a9576b529b6069141": {
          "model_module": "@jupyter-widgets/base",
          "model_name": "LayoutModel",
          "model_module_version": "1.2.0",
          "state": {
            "_model_module": "@jupyter-widgets/base",
            "_model_module_version": "1.2.0",
            "_model_name": "LayoutModel",
            "_view_count": null,
            "_view_module": "@jupyter-widgets/base",
            "_view_module_version": "1.2.0",
            "_view_name": "LayoutView",
            "align_content": null,
            "align_items": null,
            "align_self": null,
            "border": null,
            "bottom": null,
            "display": null,
            "flex": null,
            "flex_flow": null,
            "grid_area": null,
            "grid_auto_columns": null,
            "grid_auto_flow": null,
            "grid_auto_rows": null,
            "grid_column": null,
            "grid_gap": null,
            "grid_row": null,
            "grid_template_areas": null,
            "grid_template_columns": null,
            "grid_template_rows": null,
            "height": null,
            "justify_content": null,
            "justify_items": null,
            "left": null,
            "margin": null,
            "max_height": null,
            "max_width": null,
            "min_height": null,
            "min_width": null,
            "object_fit": null,
            "object_position": null,
            "order": null,
            "overflow": null,
            "overflow_x": null,
            "overflow_y": null,
            "padding": null,
            "right": null,
            "top": null,
            "visibility": null,
            "width": null
          }
        },
        "96c3630be95443bd952e84fbddfae8d9": {
          "model_module": "@jupyter-widgets/controls",
          "model_name": "ProgressStyleModel",
          "model_module_version": "1.5.0",
          "state": {
            "_model_module": "@jupyter-widgets/controls",
            "_model_module_version": "1.5.0",
            "_model_name": "ProgressStyleModel",
            "_view_count": null,
            "_view_module": "@jupyter-widgets/base",
            "_view_module_version": "1.2.0",
            "_view_name": "StyleView",
            "bar_color": null,
            "description_width": ""
          }
        },
        "6badf7171dae4bbfac5c3cfe890b7884": {
          "model_module": "@jupyter-widgets/base",
          "model_name": "LayoutModel",
          "model_module_version": "1.2.0",
          "state": {
            "_model_module": "@jupyter-widgets/base",
            "_model_module_version": "1.2.0",
            "_model_name": "LayoutModel",
            "_view_count": null,
            "_view_module": "@jupyter-widgets/base",
            "_view_module_version": "1.2.0",
            "_view_name": "LayoutView",
            "align_content": null,
            "align_items": null,
            "align_self": null,
            "border": null,
            "bottom": null,
            "display": null,
            "flex": null,
            "flex_flow": null,
            "grid_area": null,
            "grid_auto_columns": null,
            "grid_auto_flow": null,
            "grid_auto_rows": null,
            "grid_column": null,
            "grid_gap": null,
            "grid_row": null,
            "grid_template_areas": null,
            "grid_template_columns": null,
            "grid_template_rows": null,
            "height": null,
            "justify_content": null,
            "justify_items": null,
            "left": null,
            "margin": null,
            "max_height": null,
            "max_width": null,
            "min_height": null,
            "min_width": null,
            "object_fit": null,
            "object_position": null,
            "order": null,
            "overflow": null,
            "overflow_x": null,
            "overflow_y": null,
            "padding": null,
            "right": null,
            "top": null,
            "visibility": null,
            "width": null
          }
        },
        "6085f43e83954b45b56d3e14442341bc": {
          "model_module": "@jupyter-widgets/controls",
          "model_name": "DescriptionStyleModel",
          "model_module_version": "1.5.0",
          "state": {
            "_model_module": "@jupyter-widgets/controls",
            "_model_module_version": "1.5.0",
            "_model_name": "DescriptionStyleModel",
            "_view_count": null,
            "_view_module": "@jupyter-widgets/base",
            "_view_module_version": "1.2.0",
            "_view_name": "StyleView",
            "description_width": ""
          }
        }
      }
    }
  },
  "nbformat": 4,
  "nbformat_minor": 0
}